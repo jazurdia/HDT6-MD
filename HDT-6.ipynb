{
 "cells": [
  {
   "cell_type": "markdown",
   "metadata": {},
   "source": [
    "# Hoja de trabajo 06\n",
    "*Redes neuronales*\n",
    "\n",
    "*Diego Morales | Alejandro Azurdia*"
   ]
  },
  {
   "cell_type": "markdown",
   "metadata": {},
   "source": [
    "# Resolución de la hoja de trabajo"
   ]
  },
  {
   "cell_type": "markdown",
   "metadata": {},
   "source": [
    "## Análisis de Escalabilidad del Modelo\n",
    "\n",
    "### 1. Cambie el número de observaciones a 100,000. Explique qué es lo que ocurre en términos de:"
   ]
  },
  {
   "cell_type": "markdown",
   "metadata": {},
   "source": [
    "**1. El tiempo de ejecución para resolver el problemas**\n",
    "**El tiempo de ejecución para resolver porblemas ha crecido considerablemente. Multiplicandose en algunas instancias mas de 10 veces. \n",
    "\n",
    "**2. El resultado final vs lo encontrado en clase: es igual, o diferente...¿porqué?**\n",
    "Aunque no es igual, es parecido al resultado obtenido en clase. \n",
    "\n",
    "**3. Las gráficas para representar los datos/resultados**\n",
    "Las gráficas están iguales, aunque tienen muchos mas datos. "
   ]
  },
  {
   "cell_type": "markdown",
   "metadata": {},
   "source": [
    "### 2) Cambie el número de observaciones a 1,000,000. Explique qué es lo que ocurre en términos de:"
   ]
  },
  {
   "cell_type": "markdown",
   "metadata": {},
   "source": [
    "**1. El tiempo de ejecución para resolver el problemas**\n",
    "\n",
    "**2. El resultado final vs lo encontrado en clase: es igual, o diferente...¿porqué?**\n",
    "\n",
    "**3. Las gráficas para representar los datos/resultados**\n"
   ]
  }
 ],
 "metadata": {
  "kernelspec": {
   "display_name": "Python 3",
   "language": "python",
   "name": "python3"
  },
  "language_info": {
   "codemirror_mode": {
    "name": "ipython",
    "version": 3
   },
   "file_extension": ".py",
   "mimetype": "text/x-python",
   "name": "python",
   "nbconvert_exporter": "python",
   "pygments_lexer": "ipython3",
   "version": "3.11.4"
  }
 },
 "nbformat": 4,
 "nbformat_minor": 2
}
