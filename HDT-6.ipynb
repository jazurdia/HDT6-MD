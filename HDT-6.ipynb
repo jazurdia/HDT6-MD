{
 "cells": [
  {
   "cell_type": "markdown",
   "metadata": {},
   "source": [
    "# Hoja de trabajo 06\n",
    "*Redes neuronales*\n",
    "\n",
    "*Diego Morales | Alejandro Azurdia*"
   ]
  },
  {
   "cell_type": "markdown",
   "metadata": {},
   "source": [
    "# Resolución de la hoja de trabajo"
   ]
  },
  {
   "cell_type": "markdown",
   "metadata": {},
   "source": [
    "## 1) Análisis de Escalabilidad del Modelo\n",
    "\n",
    "### 1. Cambie el número de observaciones a 100,000. Explique qué es lo que ocurre en términos de:"
   ]
  },
  {
   "cell_type": "markdown",
   "metadata": {},
   "source": [
    "**1. El tiempo de ejecución para resolver el problemas**\n",
    "**El tiempo de ejecución para resolver porblemas ha crecido considerablemente. Multiplicandose en algunas instancias mas de 10 veces. \n",
    "\n",
    "**2. El resultado final vs lo encontrado en clase: es igual, o diferente...¿porqué?**\n",
    "Aunque no es igual porque el ploteo es de muchos mas puntos, es parecido al resultado obtenido en clase y el comportamiento exhibido es parecido. \n",
    "\n",
    "Esto se evidencia la analizar los resultaods de los pesos y el sesgo:\n",
    "\n",
    "- pesos: [[ 2.00026532] [-2.99934318]]\n",
    "- segos: [4.32473635]\n",
    "\n",
    "\n",
    "\n",
    "**3. Las gráficas para representar los datos/resultados**\n",
    "Las gráficas están iguales, aunque tienen muchos mas datos. En específico las gráfica para resultados están mucho mas pobladas, pero se comportan de la misma forma. \n",
    "\n"
   ]
  },
  {
   "cell_type": "markdown",
   "metadata": {},
   "source": [
    "### 2) Cambie el número de observaciones a 1,000,000. Explique qué es lo que ocurre en términos de:"
   ]
  },
  {
   "cell_type": "markdown",
   "metadata": {},
   "source": [
    "**1. El tiempo de ejecución para resolver el problemas**\n",
    "El tiempo de ejecución para resolver problemas se multiplicó aun mas que la vez pasada. Para obtener el resultado final, el tiempo de ejecución es de 5 segundos y el entrenamiento es de 4.1 segundos. Este tiempo es casi 10 veces más alto que el encontrado anteriormente. Esto tiene sentido, pues eran 10 veces más observaciones. \n",
    "\n",
    "**2. El resultado final vs lo encontrado en clase: es igual, o diferente...¿porqué?**\n",
    "El resultado sigue siendo igual, aunque aún mas poblado de datos. \n",
    "\n",
    "**3. Las gráficas para representar los datos/resultados**\n",
    "Las gráficas siguen representando el comportamiento esperado, de una recta a 45° sobre el eje. \n"
   ]
  },
  {
   "cell_type": "markdown",
   "metadata": {},
   "source": [
    "## Experimentación con la Tasa de Aprendizaje (Total: 25 puntos)"
   ]
  },
  {
   "cell_type": "markdown",
   "metadata": {},
   "source": [
    "**1. ¿Qué ocurre con el tiempo de ejecución?**\n",
    "Se observó que entre más pequeña se hacía la tasa de aprendizaje, más tiempo era requerido para encontrar le resultado. \n",
    "\n",
    "**2. ¿Qué ocurre con la minimización de la pérdida?**\n",
    "Se observa que entre menor es la tasa de crecimiento, menor es el valor de la diferencia entre iteraciones de la pérdida. Al acercarse a valores cercanos al 0, lo que antes claramente exhibía un comportamiento exponencial, se convierte casi en una recta .\n",
    "\n",
    "**3. ¿Qué ocurre con los pesos y los sesgos?**\n",
    "Tanto los pesos como los sesgos no se ajustan correctamente al comportamiento esperado. Los pesos sufren modificaciones relativamente leves, mientras que el sesgo está completamente errado. Se espera un valor de 5 y se obtiene un valor de 0.39. \n",
    "\n",
    "**4. ¿Qué ocurre con las iteraciones?**\n",
    "Las iteraciones no sufren modificaciones. El tiempo de ejecución también es el mismo. \n",
    "\n",
    "**5. ¿El problema queda resuelto o no?**\n",
    "El problema parece quedar resuelto ya que se aprecia una recta 45° como resultado del ploteo, aún con el desajuste de los sesgos, sin embargo un análisis mas profundo es requerido para confirmar este resultado. \n",
    "\n",
    "**¿Cuál es la apariencia de la última gráfica? ¿Se cumple con la condición de que sea de 45 grados?**\n",
    "Sí, se cumple la condición de que esté a 45°. "
   ]
  }
 ],
 "metadata": {
  "kernelspec": {
   "display_name": "Python 3",
   "language": "python",
   "name": "python3"
  },
  "language_info": {
   "codemirror_mode": {
    "name": "ipython",
    "version": 3
   },
   "file_extension": ".py",
   "mimetype": "text/x-python",
   "name": "python",
   "nbconvert_exporter": "python",
   "pygments_lexer": "ipython3",
   "version": "3.11.4"
  }
 },
 "nbformat": 4,
 "nbformat_minor": 2
}
